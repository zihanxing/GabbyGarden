{
 "cells": [
  {
   "cell_type": "code",
   "execution_count": 12,
   "metadata": {},
   "outputs": [],
   "source": [
    "import requests\n",
    "import urllib.request\n",
    "\n",
    "text = \"Hi there, welcome to Genny. The Simple mode is perfect for creating single speaker short voiceovers. Simply pick your preferred speaker, type or copy and paste your script. Then, click the 'Generate' button to generate your voiceover in seconds. You will see the voiceover output on the right for you to freely share or download. For more advanced capabilities, video editing, or longer multi-speaker voiceover production, please checkout the Advanced mode instead. \"\n",
    "speaker = \"63b407a8241a82001d51b977\"\n",
    "speed = 0.85\n",
    "API_key= \"28a42c12-967c-4c5f-8294-b5d3ce9c1b70\"\n",
    "\n",
    "        \n",
    "def get_speech_from_text(text, speaker, speed, API_key):\n",
    "\n",
    "  url = \"https://api.genny.lovo.ai/api/v1/tts/sync\"\n",
    "  payload = {  \n",
    "    \"speed\": speed,\n",
    "    \"text\": text,    \n",
    "    \"speaker\": speaker, \n",
    "  }\n",
    "  headers = {\n",
    "      \"accept\": \"application/json\",\n",
    "      \"content-type\": \"application/json\",\n",
    "      \"X-API-KEY\": API_key\n",
    "  }\n",
    "\n",
    "  TTS_response = requests.post(url, json=payload, headers=headers)\n",
    "\n",
    "  # retrive_url =  urllib.parse.urljoin(\"https://api.genny.lovo.ai/api/v1/tts/\", TTS_response.json()[\"id\"])\n",
    "  \n",
    "  retrive_url =  urllib.parse.urljoin(\"https://api.genny.lovo.ai/api/v1/tts/sync\", TTS_response.json()[\"id\"])\n",
    "\n",
    "  headers = {\n",
    "      \"x-api-key\":API_key,\n",
    "      \"accept\": \"application/json\"\n",
    "  }\n",
    "  \n",
    "  retrive_response = requests.get(retrive_url, headers=headers)\n",
    "  \n",
    "  speech_url = retrive_response.json()[\"data\"][0][\"urls\"][0]\n",
    "  urllib.request.urlretrieve(speech_url, \"speech.mp3\")"
   ]
  },
  {
   "cell_type": "code",
   "execution_count": 13,
   "metadata": {},
   "outputs": [],
   "source": [
    "get_speech_from_text(text, speaker, speed, API_key = API_key)"
   ]
  },
  {
   "cell_type": "code",
   "execution_count": null,
   "metadata": {},
   "outputs": [],
   "source": []
  }
 ],
 "metadata": {
  "kernelspec": {
   "display_name": "base",
   "language": "python",
   "name": "python3"
  },
  "language_info": {
   "codemirror_mode": {
    "name": "ipython",
    "version": 3
   },
   "file_extension": ".py",
   "mimetype": "text/x-python",
   "name": "python",
   "nbconvert_exporter": "python",
   "pygments_lexer": "ipython3",
   "version": "3.9.13"
  }
 },
 "nbformat": 4,
 "nbformat_minor": 2
}
