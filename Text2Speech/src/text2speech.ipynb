{
 "cells": [
  {
   "cell_type": "code",
   "execution_count": 22,
   "metadata": {},
   "outputs": [
    {
     "name": "stdout",
     "output_type": "stream",
     "text": [
      "Audio content written to file \"output.mp3\"\n"
     ]
    }
   ],
   "source": [
    "def synthesize_text(text):\n",
    "    \"\"\"Synthesizes speech from the input string of text.\"\"\"\n",
    "    from google.cloud import texttospeech\n",
    "\n",
    "    client = texttospeech.TextToSpeechClient()\n",
    "\n",
    "    input_text = texttospeech.SynthesisInput(text=text)\n",
    "\n",
    "    # Note: the voice can also be specified by name.\n",
    "    # Names of voices can be retrieved with client.list_voices().\n",
    "    voice = texttospeech.VoiceSelectionParams(\n",
    "        language_code=\"en-US\",\n",
    "        name=\"en-US-Standard-C\",\n",
    "        ssml_gender=texttospeech.SsmlVoiceGender.FEMALE,\n",
    "    )\n",
    "\n",
    "    audio_config = texttospeech.AudioConfig(\n",
    "        audio_encoding=texttospeech.AudioEncoding.MP3\n",
    "    )\n",
    "\n",
    "    response = client.synthesize_speech(\n",
    "        request={\"input\": input_text, \"voice\": voice, \"audio_config\": audio_config}\n",
    "    )\n",
    "\n",
    "    # The response's audio_content is binary.\n",
    "    with open(\"output.mp3\", \"wb\") as out:\n",
    "        out.write(response.audio_content)\n",
    "        print('Audio content written to file \"output.mp3\"')\n",
    "synthesize_text(\"Audio content written to file 'output.mp3'\")"
   ]
  },
  {
   "cell_type": "code",
   "execution_count": 44,
   "metadata": {},
   "outputs": [
    {
     "name": "stdout",
     "output_type": "stream",
     "text": [
      "Audio content written to file output.mp3\n"
     ]
    }
   ],
   "source": [
    "import html\n",
    "\n",
    "from google.cloud import texttospeech\n",
    "def ssml_to_audio(ssml_text, outfile):\n",
    "    # Generates SSML text from plaintext.\n",
    "    #\n",
    "    # Given a string of SSML text and an output file name, this function\n",
    "    # calls the Text-to-Speech API. The API returns a synthetic audio\n",
    "    # version of the text, formatted according to the SSML commands. This\n",
    "    # function saves the synthetic audio to the designated output file.\n",
    "    #\n",
    "    # Args:\n",
    "    # ssml_text: string of SSML text\n",
    "    # outfile: string name of file under which to save audio output\n",
    "    #\n",
    "    # Returns:\n",
    "    # nothing\n",
    "\n",
    "    # Instantiates a client\n",
    "    client = texttospeech.TextToSpeechClient()\n",
    "\n",
    "    # Sets the text input to be synthesized\n",
    "    synthesis_input = texttospeech.SynthesisInput(ssml=ssml_text)\n",
    "\n",
    "    # Builds the voice request, selects the language code (\"en-US\") and\n",
    "    # the SSML voice gender (\"MALE\")\n",
    "    voice = texttospeech.VoiceSelectionParams(\n",
    "        language_code=\"en-US\", ssml_gender=texttospeech.SsmlVoiceGender.MALE\n",
    "    )\n",
    "\n",
    "    # Selects the type of audio file to return\n",
    "    audio_config = texttospeech.AudioConfig(\n",
    "        audio_encoding=texttospeech.AudioEncoding.MP3\n",
    "    )\n",
    "\n",
    "    # Performs the text-to-speech request on the text input with the selected\n",
    "    # voice parameters and audio file type\n",
    "    response = client.synthesize_speech(\n",
    "        input=synthesis_input, voice=voice, audio_config=audio_config\n",
    "    )\n",
    "\n",
    "    # Writes the synthetic audio to the output file.\n",
    "    with open(outfile, \"wb\") as out:\n",
    "        out.write(response.audio_content)\n",
    "        print(\"Audio content written to file \" + outfile)\n",
    "text = \"\"\"\n",
    "<speak>\n",
    "  Here are <say-as interpret-as=\"characters\">SSML</say-as> samples.\n",
    "  I can pause <break time=\"3s\"/>.\n",
    "  I can play a sound\n",
    "  <audio src=\"https://www.example.com/MY_MP3_FILE.mp3\">didn't get your MP3 audio file</audio>.\n",
    "  I can speak in cardinals. Your number is <say-as interpret-as=\"cardinal\">10</say-as>.\n",
    "  Or I can speak in ordinals. You are <say-as interpret-as=\"ordinal\">10</say-as> in line.\n",
    "  Or I can even speak in digits. The digits for ten are <say-as interpret-as=\"characters\">10</say-as>.\n",
    "  I can also substitute phrases, like the <sub alias=\"World Wide Web Consortium\">W3C</sub>.\n",
    "  Finally, I can speak a paragraph with two sentences.\n",
    "  <p><s>This is sentence one.</s><s>This is sentence two.</s></p>\n",
    "</speak>\n",
    "\"\"\"\n",
    "\n",
    "ssml_to_audio(text, \"output.mp3\")"
   ]
  },
  {
   "cell_type": "code",
   "execution_count": null,
   "metadata": {},
   "outputs": [],
   "source": [
    "def text_to_ssml(inputfile):\n",
    "    # Generates SSML text from plaintext.\n",
    "    # Given an input filename, this function converts the contents of the text\n",
    "    # file into a string of formatted SSML text. This function formats the SSML\n",
    "    # string so that, when synthesized, the synthetic audio will pause for two\n",
    "    # seconds between each line of the text file. This function also handles\n",
    "    # special text characters which might interfere with SSML commands.\n",
    "    #\n",
    "    # Args:\n",
    "    # inputfile: string name of plaintext file\n",
    "    #\n",
    "    # Returns:\n",
    "    # A string of SSML text based on plaintext input\n",
    "\n",
    "    # Parses lines of input file\n",
    "    with open(inputfile) as f:\n",
    "        raw_lines = f.read()\n",
    "\n",
    "    # Replace special characters with HTML Ampersand Character Codes\n",
    "    # These Codes prevent the API from confusing text with\n",
    "    # SSML commands\n",
    "    # For example, '<' --> '&lt;' and '&' --> '&amp;'\n",
    "\n",
    "    escaped_lines = html.escape(raw_lines)\n",
    "\n",
    "    # Convert plaintext to SSML\n",
    "    # Wait two seconds between each address\n",
    "    ssml = \"<speak>{}</speak>\".format(\n",
    "        escaped_lines.replace(\"\\n\", '\\n<break time=\"2s\"/>')\n",
    "    )\n",
    "\n",
    "    # Return the concatenated string of ssml script\n",
    "    return ssml\n"
   ]
  },
  {
   "cell_type": "code",
   "execution_count": 16,
   "metadata": {},
   "outputs": [
    {
     "name": "stdout",
     "output_type": "stream",
     "text": [
      "Collecting google-cloud-speech\n",
      "  Downloading google_cloud_speech-2.22.0-py2.py3-none-any.whl (275 kB)\n",
      "\u001b[2K     \u001b[90m━━━━━━━━━━━━━━━━━━━━━━━━━━━━━━━━━━━━━━━\u001b[0m \u001b[32m275.2/275.2 kB\u001b[0m \u001b[31m4.1 MB/s\u001b[0m eta \u001b[36m0:00:00\u001b[0ma \u001b[36m0:00:01\u001b[0m\n",
      "\u001b[?25hRequirement already satisfied: proto-plus<2.0.0dev,>=1.22.0 in /Users/lihongxuan/opt/anaconda3/lib/python3.9/site-packages (from google-cloud-speech) (1.22.3)\n",
      "Requirement already satisfied: google-api-core[grpc]!=2.0.*,!=2.1.*,!=2.10.*,!=2.2.*,!=2.3.*,!=2.4.*,!=2.5.*,!=2.6.*,!=2.7.*,!=2.8.*,!=2.9.*,<3.0.0dev,>=1.34.0 in /Users/lihongxuan/opt/anaconda3/lib/python3.9/site-packages (from google-cloud-speech) (2.12.0)\n",
      "Requirement already satisfied: protobuf!=3.20.0,!=3.20.1,!=4.21.0,!=4.21.1,!=4.21.2,!=4.21.3,!=4.21.4,!=4.21.5,<5.0.0dev,>=3.19.5 in /Users/lihongxuan/opt/anaconda3/lib/python3.9/site-packages (from google-cloud-speech) (4.25.0)\n",
      "Requirement already satisfied: requests<3.0.0.dev0,>=2.18.0 in /Users/lihongxuan/opt/anaconda3/lib/python3.9/site-packages (from google-api-core[grpc]!=2.0.*,!=2.1.*,!=2.10.*,!=2.2.*,!=2.3.*,!=2.4.*,!=2.5.*,!=2.6.*,!=2.7.*,!=2.8.*,!=2.9.*,<3.0.0dev,>=1.34.0->google-cloud-speech) (2.28.1)\n",
      "Requirement already satisfied: googleapis-common-protos<2.0.dev0,>=1.56.2 in /Users/lihongxuan/opt/anaconda3/lib/python3.9/site-packages (from google-api-core[grpc]!=2.0.*,!=2.1.*,!=2.10.*,!=2.2.*,!=2.3.*,!=2.4.*,!=2.5.*,!=2.6.*,!=2.7.*,!=2.8.*,!=2.9.*,<3.0.0dev,>=1.34.0->google-cloud-speech) (1.61.0)\n",
      "Requirement already satisfied: google-auth<3.0.dev0,>=2.14.1 in /Users/lihongxuan/opt/anaconda3/lib/python3.9/site-packages (from google-api-core[grpc]!=2.0.*,!=2.1.*,!=2.10.*,!=2.2.*,!=2.3.*,!=2.4.*,!=2.5.*,!=2.6.*,!=2.7.*,!=2.8.*,!=2.9.*,<3.0.0dev,>=1.34.0->google-cloud-speech) (2.23.4)\n",
      "Requirement already satisfied: grpcio-status<2.0.dev0,>=1.33.2 in /Users/lihongxuan/opt/anaconda3/lib/python3.9/site-packages (from google-api-core[grpc]!=2.0.*,!=2.1.*,!=2.10.*,!=2.2.*,!=2.3.*,!=2.4.*,!=2.5.*,!=2.6.*,!=2.7.*,!=2.8.*,!=2.9.*,<3.0.0dev,>=1.34.0->google-cloud-speech) (1.59.2)\n",
      "Requirement already satisfied: grpcio<2.0dev,>=1.33.2 in /Users/lihongxuan/opt/anaconda3/lib/python3.9/site-packages (from google-api-core[grpc]!=2.0.*,!=2.1.*,!=2.10.*,!=2.2.*,!=2.3.*,!=2.4.*,!=2.5.*,!=2.6.*,!=2.7.*,!=2.8.*,!=2.9.*,<3.0.0dev,>=1.34.0->google-cloud-speech) (1.59.2)\n",
      "Requirement already satisfied: cachetools<6.0,>=2.0.0 in /Users/lihongxuan/opt/anaconda3/lib/python3.9/site-packages (from google-auth<3.0.dev0,>=2.14.1->google-api-core[grpc]!=2.0.*,!=2.1.*,!=2.10.*,!=2.2.*,!=2.3.*,!=2.4.*,!=2.5.*,!=2.6.*,!=2.7.*,!=2.8.*,!=2.9.*,<3.0.0dev,>=1.34.0->google-cloud-speech) (5.3.2)\n",
      "Requirement already satisfied: rsa<5,>=3.1.4 in /Users/lihongxuan/opt/anaconda3/lib/python3.9/site-packages (from google-auth<3.0.dev0,>=2.14.1->google-api-core[grpc]!=2.0.*,!=2.1.*,!=2.10.*,!=2.2.*,!=2.3.*,!=2.4.*,!=2.5.*,!=2.6.*,!=2.7.*,!=2.8.*,!=2.9.*,<3.0.0dev,>=1.34.0->google-cloud-speech) (4.9)\n",
      "Requirement already satisfied: pyasn1-modules>=0.2.1 in /Users/lihongxuan/opt/anaconda3/lib/python3.9/site-packages (from google-auth<3.0.dev0,>=2.14.1->google-api-core[grpc]!=2.0.*,!=2.1.*,!=2.10.*,!=2.2.*,!=2.3.*,!=2.4.*,!=2.5.*,!=2.6.*,!=2.7.*,!=2.8.*,!=2.9.*,<3.0.0dev,>=1.34.0->google-cloud-speech) (0.2.8)\n",
      "Requirement already satisfied: urllib3<1.27,>=1.21.1 in /Users/lihongxuan/opt/anaconda3/lib/python3.9/site-packages (from requests<3.0.0.dev0,>=2.18.0->google-api-core[grpc]!=2.0.*,!=2.1.*,!=2.10.*,!=2.2.*,!=2.3.*,!=2.4.*,!=2.5.*,!=2.6.*,!=2.7.*,!=2.8.*,!=2.9.*,<3.0.0dev,>=1.34.0->google-cloud-speech) (1.26.11)\n",
      "Requirement already satisfied: charset-normalizer<3,>=2 in /Users/lihongxuan/opt/anaconda3/lib/python3.9/site-packages (from requests<3.0.0.dev0,>=2.18.0->google-api-core[grpc]!=2.0.*,!=2.1.*,!=2.10.*,!=2.2.*,!=2.3.*,!=2.4.*,!=2.5.*,!=2.6.*,!=2.7.*,!=2.8.*,!=2.9.*,<3.0.0dev,>=1.34.0->google-cloud-speech) (2.0.4)\n",
      "Requirement already satisfied: certifi>=2017.4.17 in /Users/lihongxuan/opt/anaconda3/lib/python3.9/site-packages (from requests<3.0.0.dev0,>=2.18.0->google-api-core[grpc]!=2.0.*,!=2.1.*,!=2.10.*,!=2.2.*,!=2.3.*,!=2.4.*,!=2.5.*,!=2.6.*,!=2.7.*,!=2.8.*,!=2.9.*,<3.0.0dev,>=1.34.0->google-cloud-speech) (2022.9.24)\n",
      "Requirement already satisfied: idna<4,>=2.5 in /Users/lihongxuan/opt/anaconda3/lib/python3.9/site-packages (from requests<3.0.0.dev0,>=2.18.0->google-api-core[grpc]!=2.0.*,!=2.1.*,!=2.10.*,!=2.2.*,!=2.3.*,!=2.4.*,!=2.5.*,!=2.6.*,!=2.7.*,!=2.8.*,!=2.9.*,<3.0.0dev,>=1.34.0->google-cloud-speech) (3.3)\n",
      "Requirement already satisfied: pyasn1<0.5.0,>=0.4.6 in /Users/lihongxuan/opt/anaconda3/lib/python3.9/site-packages (from pyasn1-modules>=0.2.1->google-auth<3.0.dev0,>=2.14.1->google-api-core[grpc]!=2.0.*,!=2.1.*,!=2.10.*,!=2.2.*,!=2.3.*,!=2.4.*,!=2.5.*,!=2.6.*,!=2.7.*,!=2.8.*,!=2.9.*,<3.0.0dev,>=1.34.0->google-cloud-speech) (0.4.8)\n",
      "Installing collected packages: google-cloud-speech\n",
      "Successfully installed google-cloud-speech-2.22.0\n",
      "Note: you may need to restart the kernel to use updated packages.\n"
     ]
    }
   ],
   "source": [
    "\n",
    "pip install google-cloud-speech"
   ]
  },
  {
   "cell_type": "code",
   "execution_count": null,
   "metadata": {},
   "outputs": [],
   "source": []
  }
 ],
 "metadata": {
  "kernelspec": {
   "display_name": "base",
   "language": "python",
   "name": "python3"
  },
  "language_info": {
   "codemirror_mode": {
    "name": "ipython",
    "version": 3
   },
   "file_extension": ".py",
   "mimetype": "text/x-python",
   "name": "python",
   "nbconvert_exporter": "python",
   "pygments_lexer": "ipython3",
   "version": "3.9.13"
  }
 },
 "nbformat": 4,
 "nbformat_minor": 2
}
